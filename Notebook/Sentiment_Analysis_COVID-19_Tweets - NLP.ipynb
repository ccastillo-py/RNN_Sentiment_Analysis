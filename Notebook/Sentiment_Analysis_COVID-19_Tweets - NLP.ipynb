{
 "cells": [
  {
   "cell_type": "markdown",
   "id": "5712d1f4",
   "metadata": {},
   "source": [
    "# Presentación y objetivo"
   ]
  },
  {
   "cell_type": "markdown",
   "id": "3f010e28",
   "metadata": {},
   "source": [
    "El objeto del presente proyecto es el de desarrollar una Red Neuronal Recurrente (RNN) que sea capaz de clasificar con éxito tweets relacionados con el COVID-19. Para este fin, se va a llevar a cabo un análisis de sentimiento de los textos extraídos directamente de Twitter aplicando técnicas de Procesamiento de Lenguaje Natural (NLP)."
   ]
  },
  {
   "cell_type": "markdown",
   "id": "9725aaa2",
   "metadata": {},
   "source": [
    "![Imagen](https://i.ibb.co/ZdYTJhn/NLP-header4.png)"
   ]
  },
  {
   "cell_type": "markdown",
   "id": "fc6b5fb0",
   "metadata": {},
   "source": [
    "El conjunto de datos incluye tweets ya etiquetados, por lo que se van a aplicar métodos de aprendizaje supervisados. En esencia, se trata de un problema de clasificación multiclase."
   ]
  },
  {
   "cell_type": "markdown",
   "id": "43456efa",
   "metadata": {},
   "source": [
    "# Carga de librerías necesarias"
   ]
  },
  {
   "cell_type": "code",
   "execution_count": 1,
   "id": "e0e83e98",
   "metadata": {},
   "outputs": [],
   "source": [
    "# Cargando librerías para EDA y modelado\n",
    "import numpy as np\n",
    "import pandas as pd\n",
    "import os\n",
    "import re\n",
    "import warnings\n",
    "warnings.filterwarnings('ignore')\n",
    "\n",
    "import tensorflow as tf\n",
    "from tensorflow.keras import layers\n",
    "from tensorflow.keras.models import Sequential\n",
    "from tensorflow.keras.layers import LSTM, Embedding, Bidirectional, Dense, Dropout\n",
    "from tensorflow.keras.losses import CategoricalCrossentropy\n",
    "from tensorflow.keras.optimizers import Adam\n",
    "\n",
    "from sklearn.model_selection import train_test_split\n",
    "\n",
    "# Para codificaciones one-hot\n",
    "from tensorflow.keras.utils import to_categorical\n",
    "\n",
    "# Para tratamiento y limpieza de texto\n",
    "from tensorflow.keras import preprocessing\n",
    "from tensorflow.keras.layers.experimental.preprocessing import TextVectorization\n",
    "\n",
    "# Visualización\n",
    "import matplotlib.pyplot as plt\n",
    "import seaborn as sns\n",
    "import plotly.express as px\n",
    "\n",
    "# Evaluación\n",
    "from sklearn.metrics import classification_report, accuracy_score"
   ]
  },
  {
   "cell_type": "markdown",
   "id": "d4933b53",
   "metadata": {},
   "source": [
    "# Cargando los datos"
   ]
  },
  {
   "cell_type": "markdown",
   "id": "d594dc64",
   "metadata": {},
   "source": [
    "Se va a trabajar con dos archivos de partida:\n",
    "- \"Corona_NLP_train.csv\", que serán aquellos datos que utilizaremos para entrenar el modelo.\n",
    "- \"Corona_NLP_test.csv\", que será el dataset a partir del cual validaremos las clasificaciones obtenidas."
   ]
  },
  {
   "cell_type": "markdown",
   "id": "450a7dd8",
   "metadata": {},
   "source": [
    "En primer lugar, definimos la cabecera:"
   ]
  },
  {
   "cell_type": "code",
   "execution_count": 2,
   "id": "8c4b6b94",
   "metadata": {},
   "outputs": [],
   "source": [
    "col_names = [\n",
    "    'User',\n",
    "    'Name',\n",
    "    'Location',\n",
    "    'Date',\n",
    "    'Tweet Content',\n",
    "    'Sentiment'\n",
    "]"
   ]
  },
  {
   "cell_type": "code",
   "execution_count": 3,
   "id": "3d17c824",
   "metadata": {},
   "outputs": [],
   "source": [
    "df_train = pd.read_csv('Corona_NLP_train.csv', header = 0, names = col_names, encoding = 'latin1')"
   ]
  },
  {
   "cell_type": "code",
   "execution_count": 4,
   "id": "803c681a",
   "metadata": {},
   "outputs": [
    {
     "data": {
      "text/html": [
       "<div>\n",
       "<style scoped>\n",
       "    .dataframe tbody tr th:only-of-type {\n",
       "        vertical-align: middle;\n",
       "    }\n",
       "\n",
       "    .dataframe tbody tr th {\n",
       "        vertical-align: top;\n",
       "    }\n",
       "\n",
       "    .dataframe thead th {\n",
       "        text-align: right;\n",
       "    }\n",
       "</style>\n",
       "<table border=\"1\" class=\"dataframe\">\n",
       "  <thead>\n",
       "    <tr style=\"text-align: right;\">\n",
       "      <th></th>\n",
       "      <th>User</th>\n",
       "      <th>Name</th>\n",
       "      <th>Location</th>\n",
       "      <th>Date</th>\n",
       "      <th>Tweet Content</th>\n",
       "      <th>Sentiment</th>\n",
       "    </tr>\n",
       "  </thead>\n",
       "  <tbody>\n",
       "    <tr>\n",
       "      <th>0</th>\n",
       "      <td>3799</td>\n",
       "      <td>48751</td>\n",
       "      <td>London</td>\n",
       "      <td>16-03-2020</td>\n",
       "      <td>@MeNyrbie @Phil_Gahan @Chrisitv https://t.co/i...</td>\n",
       "      <td>Neutral</td>\n",
       "    </tr>\n",
       "    <tr>\n",
       "      <th>1</th>\n",
       "      <td>3800</td>\n",
       "      <td>48752</td>\n",
       "      <td>UK</td>\n",
       "      <td>16-03-2020</td>\n",
       "      <td>advice Talk to your neighbours family to excha...</td>\n",
       "      <td>Positive</td>\n",
       "    </tr>\n",
       "    <tr>\n",
       "      <th>2</th>\n",
       "      <td>3801</td>\n",
       "      <td>48753</td>\n",
       "      <td>Vagabonds</td>\n",
       "      <td>16-03-2020</td>\n",
       "      <td>Coronavirus Australia: Woolworths to give elde...</td>\n",
       "      <td>Positive</td>\n",
       "    </tr>\n",
       "    <tr>\n",
       "      <th>3</th>\n",
       "      <td>3802</td>\n",
       "      <td>48754</td>\n",
       "      <td>NaN</td>\n",
       "      <td>16-03-2020</td>\n",
       "      <td>My food stock is not the only one which is emp...</td>\n",
       "      <td>Positive</td>\n",
       "    </tr>\n",
       "    <tr>\n",
       "      <th>4</th>\n",
       "      <td>3803</td>\n",
       "      <td>48755</td>\n",
       "      <td>NaN</td>\n",
       "      <td>16-03-2020</td>\n",
       "      <td>Me, ready to go at supermarket during the #COV...</td>\n",
       "      <td>Extremely Negative</td>\n",
       "    </tr>\n",
       "  </tbody>\n",
       "</table>\n",
       "</div>"
      ],
      "text/plain": [
       "   User   Name   Location        Date  \\\n",
       "0  3799  48751     London  16-03-2020   \n",
       "1  3800  48752         UK  16-03-2020   \n",
       "2  3801  48753  Vagabonds  16-03-2020   \n",
       "3  3802  48754        NaN  16-03-2020   \n",
       "4  3803  48755        NaN  16-03-2020   \n",
       "\n",
       "                                       Tweet Content           Sentiment  \n",
       "0  @MeNyrbie @Phil_Gahan @Chrisitv https://t.co/i...             Neutral  \n",
       "1  advice Talk to your neighbours family to excha...            Positive  \n",
       "2  Coronavirus Australia: Woolworths to give elde...            Positive  \n",
       "3  My food stock is not the only one which is emp...            Positive  \n",
       "4  Me, ready to go at supermarket during the #COV...  Extremely Negative  "
      ]
     },
     "execution_count": 4,
     "metadata": {},
     "output_type": "execute_result"
    }
   ],
   "source": [
    "df_train.head()"
   ]
  },
  {
   "cell_type": "markdown",
   "id": "5cf370ca",
   "metadata": {},
   "source": [
    "El dataset contiene únicamente 6 parámetros, donde **UserName** y **ScreenName** se han representado como códigos numéricos a fin de preservar la privacidad de los usuarios."
   ]
  },
  {
   "cell_type": "markdown",
   "id": "ebdb1092",
   "metadata": {},
   "source": [
    "Procedemos de forma análoga con los datos de test:"
   ]
  },
  {
   "cell_type": "code",
   "execution_count": 5,
   "id": "749dc9d7",
   "metadata": {},
   "outputs": [],
   "source": [
    "df_test = pd.read_csv('Corona_NLP_test.csv', header=0, names = col_names, encoding='latin1')"
   ]
  },
  {
   "cell_type": "code",
   "execution_count": 6,
   "id": "87131c5e",
   "metadata": {},
   "outputs": [
    {
     "data": {
      "text/html": [
       "<div>\n",
       "<style scoped>\n",
       "    .dataframe tbody tr th:only-of-type {\n",
       "        vertical-align: middle;\n",
       "    }\n",
       "\n",
       "    .dataframe tbody tr th {\n",
       "        vertical-align: top;\n",
       "    }\n",
       "\n",
       "    .dataframe thead th {\n",
       "        text-align: right;\n",
       "    }\n",
       "</style>\n",
       "<table border=\"1\" class=\"dataframe\">\n",
       "  <thead>\n",
       "    <tr style=\"text-align: right;\">\n",
       "      <th></th>\n",
       "      <th>User</th>\n",
       "      <th>Name</th>\n",
       "      <th>Location</th>\n",
       "      <th>Date</th>\n",
       "      <th>Tweet Content</th>\n",
       "      <th>Sentiment</th>\n",
       "    </tr>\n",
       "  </thead>\n",
       "  <tbody>\n",
       "    <tr>\n",
       "      <th>0</th>\n",
       "      <td>1</td>\n",
       "      <td>44953</td>\n",
       "      <td>NYC</td>\n",
       "      <td>02-03-2020</td>\n",
       "      <td>TRENDING: New Yorkers encounter empty supermar...</td>\n",
       "      <td>Extremely Negative</td>\n",
       "    </tr>\n",
       "    <tr>\n",
       "      <th>1</th>\n",
       "      <td>2</td>\n",
       "      <td>44954</td>\n",
       "      <td>Seattle, WA</td>\n",
       "      <td>02-03-2020</td>\n",
       "      <td>When I couldn't find hand sanitizer at Fred Me...</td>\n",
       "      <td>Positive</td>\n",
       "    </tr>\n",
       "    <tr>\n",
       "      <th>2</th>\n",
       "      <td>3</td>\n",
       "      <td>44955</td>\n",
       "      <td>NaN</td>\n",
       "      <td>02-03-2020</td>\n",
       "      <td>Find out how you can protect yourself and love...</td>\n",
       "      <td>Extremely Positive</td>\n",
       "    </tr>\n",
       "    <tr>\n",
       "      <th>3</th>\n",
       "      <td>4</td>\n",
       "      <td>44956</td>\n",
       "      <td>Chicagoland</td>\n",
       "      <td>02-03-2020</td>\n",
       "      <td>#Panic buying hits #NewYork City as anxious sh...</td>\n",
       "      <td>Negative</td>\n",
       "    </tr>\n",
       "    <tr>\n",
       "      <th>4</th>\n",
       "      <td>5</td>\n",
       "      <td>44957</td>\n",
       "      <td>Melbourne, Victoria</td>\n",
       "      <td>03-03-2020</td>\n",
       "      <td>#toiletpaper #dunnypaper #coronavirus #coronav...</td>\n",
       "      <td>Neutral</td>\n",
       "    </tr>\n",
       "  </tbody>\n",
       "</table>\n",
       "</div>"
      ],
      "text/plain": [
       "   User   Name             Location        Date  \\\n",
       "0     1  44953                  NYC  02-03-2020   \n",
       "1     2  44954          Seattle, WA  02-03-2020   \n",
       "2     3  44955                  NaN  02-03-2020   \n",
       "3     4  44956          Chicagoland  02-03-2020   \n",
       "4     5  44957  Melbourne, Victoria  03-03-2020   \n",
       "\n",
       "                                       Tweet Content           Sentiment  \n",
       "0  TRENDING: New Yorkers encounter empty supermar...  Extremely Negative  \n",
       "1  When I couldn't find hand sanitizer at Fred Me...            Positive  \n",
       "2  Find out how you can protect yourself and love...  Extremely Positive  \n",
       "3  #Panic buying hits #NewYork City as anxious sh...            Negative  \n",
       "4  #toiletpaper #dunnypaper #coronavirus #coronav...             Neutral  "
      ]
     },
     "execution_count": 6,
     "metadata": {},
     "output_type": "execute_result"
    }
   ],
   "source": [
    "df_test.head()"
   ]
  },
  {
   "cell_type": "markdown",
   "id": "2a1f60ba",
   "metadata": {},
   "source": [
    "# Análisis Exploratorio (EDA)"
   ]
  },
  {
   "cell_type": "markdown",
   "id": "4bcbd6b2",
   "metadata": {},
   "source": [
    "Uno de los pasos preliminares más importantes a la hora de realizar cualquier modelo consiste en llevar a cabo la exploración de los datos con objeto de obtener y comprender toda la información que éstos contienen. Además, esta etapa permite determinar si se presentan datos vacíos o faltantes y si éstos son relevantes para la Red Neuronal."
   ]
  },
  {
   "cell_type": "code",
   "execution_count": 7,
   "id": "4b5b8ae2",
   "metadata": {},
   "outputs": [
    {
     "data": {
      "text/plain": [
       "(41157, 6)"
      ]
     },
     "execution_count": 7,
     "metadata": {},
     "output_type": "execute_result"
    }
   ],
   "source": [
    "df_train.shape"
   ]
  },
  {
   "cell_type": "markdown",
   "id": "0236f1f7",
   "metadata": {},
   "source": [
    "El dataframe de entrenamiento cuenta con 41.157 filas y 6 columnas."
   ]
  },
  {
   "cell_type": "code",
   "execution_count": 8,
   "id": "da38b5dd",
   "metadata": {},
   "outputs": [
    {
     "name": "stdout",
     "output_type": "stream",
     "text": [
      "<class 'pandas.core.frame.DataFrame'>\n",
      "RangeIndex: 41157 entries, 0 to 41156\n",
      "Data columns (total 6 columns):\n",
      " #   Column         Non-Null Count  Dtype \n",
      "---  ------         --------------  ----- \n",
      " 0   User           41157 non-null  int64 \n",
      " 1   Name           41157 non-null  int64 \n",
      " 2   Location       32567 non-null  object\n",
      " 3   Date           41157 non-null  object\n",
      " 4   Tweet Content  41157 non-null  object\n",
      " 5   Sentiment      41157 non-null  object\n",
      "dtypes: int64(2), object(4)\n",
      "memory usage: 1.9+ MB\n"
     ]
    }
   ],
   "source": [
    "df_train.info()"
   ]
  },
  {
   "cell_type": "markdown",
   "id": "6e43264f",
   "metadata": {},
   "source": [
    "Donde 8590 tweets no cuentan con la Ubicación (Location) establecida."
   ]
  },
  {
   "cell_type": "code",
   "execution_count": 9,
   "id": "4b5e2e8b",
   "metadata": {},
   "outputs": [
    {
     "data": {
      "text/plain": [
       "(3798, 6)"
      ]
     },
     "execution_count": 9,
     "metadata": {},
     "output_type": "execute_result"
    }
   ],
   "source": [
    "df_test.shape"
   ]
  },
  {
   "cell_type": "markdown",
   "id": "97f30bd8",
   "metadata": {},
   "source": [
    "El dataframe de test cuenta con 3.798 filas y 6 columnas."
   ]
  },
  {
   "cell_type": "code",
   "execution_count": 10,
   "id": "dcfdbeea",
   "metadata": {},
   "outputs": [
    {
     "name": "stdout",
     "output_type": "stream",
     "text": [
      "<class 'pandas.core.frame.DataFrame'>\n",
      "RangeIndex: 3798 entries, 0 to 3797\n",
      "Data columns (total 6 columns):\n",
      " #   Column         Non-Null Count  Dtype \n",
      "---  ------         --------------  ----- \n",
      " 0   User           3798 non-null   int64 \n",
      " 1   Name           3798 non-null   int64 \n",
      " 2   Location       2964 non-null   object\n",
      " 3   Date           3798 non-null   object\n",
      " 4   Tweet Content  3798 non-null   object\n",
      " 5   Sentiment      3798 non-null   object\n",
      "dtypes: int64(2), object(4)\n",
      "memory usage: 178.2+ KB\n"
     ]
    }
   ],
   "source": [
    "df_test.info()"
   ]
  },
  {
   "cell_type": "markdown",
   "id": "0e9570e3",
   "metadata": {},
   "source": [
    "Nuevamente, se presentan 834 tweets sin localización."
   ]
  },
  {
   "cell_type": "markdown",
   "id": "2926ecd4",
   "metadata": {},
   "source": [
    "Para el proyecto, los parámetros relevantes van a ser el contenido de los tweets (texto) así como el sentimiento vinculado a los mismos, por lo que no es necesario complementar la información faltante o suprimir las filas con estos parámetros nulos."
   ]
  },
  {
   "cell_type": "markdown",
   "id": "bee7b73b",
   "metadata": {},
   "source": [
    "Los posibles estados emocionales asociados a los tweets, que se corresponden con las etiquetas del modelo supervisado, son:"
   ]
  },
  {
   "cell_type": "code",
   "execution_count": 11,
   "id": "b2cc8070",
   "metadata": {
    "code_folding": []
   },
   "outputs": [
    {
     "name": "stdout",
     "output_type": "stream",
     "text": [
      "Neutral\n",
      "Positive\n",
      "Extremely Negative\n",
      "Negative\n",
      "Extremely Positive\n"
     ]
    }
   ],
   "source": [
    "for sentiment in df_train['Sentiment'].unique():\n",
    "    print(sentiment)"
   ]
  },
  {
   "cell_type": "code",
   "execution_count": 12,
   "id": "e56df73f",
   "metadata": {},
   "outputs": [],
   "source": [
    "num_classes = len(df_train['Sentiment'].unique())"
   ]
  },
  {
   "cell_type": "code",
   "execution_count": 13,
   "id": "cb30a42b",
   "metadata": {},
   "outputs": [
    {
     "name": "stdout",
     "output_type": "stream",
     "text": [
      "El número total de sentimientos asociados a los textos es de 5\n"
     ]
    }
   ],
   "source": [
    "print(f\"El número total de sentimientos asociados a los textos es de {num_classes}\")"
   ]
  },
  {
   "cell_type": "markdown",
   "id": "56c407ba",
   "metadata": {},
   "source": [
    "Para comprobar el número total de tweets ligados a cada estado emocional:"
   ]
  },
  {
   "cell_type": "code",
   "execution_count": 14,
   "id": "faf92d70",
   "metadata": {},
   "outputs": [
    {
     "name": "stdout",
     "output_type": "stream",
     "text": [
      "Positive              11422\n",
      "Negative               9917\n",
      "Neutral                7713\n",
      "Extremely Positive     6624\n",
      "Extremely Negative     5481\n",
      "Name: Sentiment, dtype: int64\n"
     ]
    }
   ],
   "source": [
    "print(df_train.Sentiment.value_counts())"
   ]
  },
  {
   "cell_type": "markdown",
   "id": "49e705f7",
   "metadata": {},
   "source": [
    "Comprobamos esta distribución con el siguiente diagrama:"
   ]
  },
  {
   "cell_type": "code",
   "execution_count": 15,
   "id": "784229ea",
   "metadata": {},
   "outputs": [
    {
     "data": {
      "image/png": "[encoded data removed]",
      "text/plain": [
       "<Figure size 504x504 with 1 Axes>"
      ]
     },
     "metadata": {},
     "output_type": "display_data"
    }
   ],
   "source": [
    "plt.figure(figsize=(7, 7))\n",
    "colors = ['#1b4f72', '#2874a6', '#3498db', '#85c1e9', '#d6eaf8']\n",
    "df_train['Sentiment'].value_counts().plot(kind='pie', colors = colors, autopct=\"%0.1f %%\")\n",
    "plt.pie([1,0,0,0], radius = 0.5, colors = 'w')\n",
    "\n",
    "plt.show()"
   ]
  },
  {
   "cell_type": "markdown",
   "id": "f6028146",
   "metadata": {},
   "source": [
    "## Hashtags"
   ]
  },
  {
   "cell_type": "markdown",
   "id": "efa8482b",
   "metadata": {},
   "source": [
    "En este apartado, comprobamos cuáles son los hashtags más frecuentes en los datos de entrenamiento:"
   ]
  },
  {
   "cell_type": "code",
   "execution_count": 16,
   "id": "8e1bd50e",
   "metadata": {},
   "outputs": [
    {
     "data": {
      "image/png": "[encoded data removed]",
      "text/plain": [
       "<Figure size 1080x360 with 1 Axes>"
      ]
     },
     "metadata": {
      "needs_background": "light"
     },
     "output_type": "display_data"
    }
   ],
   "source": [
    "def find_hash(text):\n",
    "    line = re.findall(r'(?<=#)\\w+',text)\n",
    "    return \" \".join(line)\n",
    "\n",
    "df_train['hash'] = df_train['Tweet Content'].apply(lambda x: find_hash(x))\n",
    "temp = df_train['hash'].value_counts()[:][1:11]\n",
    "temp = temp.to_frame().reset_index().rename(columns = {'index':'Hashtag','hash':'count'})\n",
    "\n",
    "plt.figure(figsize =(15, 5))\n",
    "sns.set_style(\"darkgrid\")\n",
    "sns.barplot(x = \"Hashtag\", y = \"count\", data = temp, palette = 'CMRmap_r')\n",
    "plt.show()"
   ]
  },
  {
   "cell_type": "markdown",
   "id": "d21fac9d",
   "metadata": {},
   "source": [
    "## Menciones"
   ]
  },
  {
   "cell_type": "markdown",
   "id": "e4cf78f2",
   "metadata": {},
   "source": [
    "Las menciones más frecuentes se muestran en la siguiente gráfica:"
   ]
  },
  {
   "cell_type": "code",
   "execution_count": 17,
   "id": "13965806",
   "metadata": {},
   "outputs": [
    {
     "data": {
      "image/png": "[encoded data removed]",
      "text/plain": [
       "<Figure size 1080x360 with 1 Axes>"
      ]
     },
     "metadata": {},
     "output_type": "display_data"
    }
   ],
   "source": [
    "def mentions(text):\n",
    "    line = re.findall(r'(?<=@)\\w+',text)\n",
    "    return \" \".join(line)\n",
    "\n",
    "df_train['mentions'] = df_train['Tweet Content'].apply(lambda x: mentions(x))\n",
    "temp = df_train['mentions'].value_counts()[:][1:11]\n",
    "temp = temp.to_frame().reset_index().rename(columns = {'index':'Mentions','mentions':'count'})\n",
    "\n",
    "plt.figure(figsize =(15, 5))\n",
    "sns.barplot(x = \"Mentions\",y = \"count\", data = temp, palette = 'RdYlBu_r')\n",
    "plt.show()"
   ]
  },
  {
   "cell_type": "markdown",
   "id": "60d8794b",
   "metadata": {},
   "source": [
    "# Limpieza de los datos (preprocesamiento)"
   ]
  },
  {
   "cell_type": "markdown",
   "id": "f4136eab",
   "metadata": {},
   "source": [
    "Se realiza una primera limpieza de los datos:"
   ]
  },
  {
   "cell_type": "code",
   "execution_count": 19,
   "id": "32f806e1",
   "metadata": {},
   "outputs": [],
   "source": [
    "def clean(text):\n",
    "    \n",
    "    # eliminando urls\n",
    "    text = re.sub(r'http\\S+', '', text)\n",
    "\n",
    "    # eliminando menciones\n",
    "    text = re.sub(r'@\\w+','',text)\n",
    "\n",
    "    # eliminando hastags\n",
    "    text = re.sub(r'#\\w+', '', text)\n",
    "\n",
    "    # eliminando caracteres extraños\n",
    "    text = re.sub(r'\\n', '', text)\n",
    "    text = re.sub(r'\\r', '', text)\n",
    "\n",
    "\n",
    "    # eliminando etiquetas\n",
    "    text = re.sub('r<.*?>','', text)\n",
    "    \n",
    "    return text"
   ]
  },
  {
   "cell_type": "code",
   "execution_count": 20,
   "id": "472e05b7",
   "metadata": {},
   "outputs": [],
   "source": [
    "df_train['Tweet Content'] = df_train['Tweet Content'].apply(lambda x: clean(x))"
   ]
  },
  {
   "cell_type": "markdown",
   "id": "7363e6cd",
   "metadata": {},
   "source": [
    "Para posteriormente realizar la descomposición de los datos de df_train en entrenamiento y validación:"
   ]
  },
  {
   "cell_type": "code",
   "execution_count": 21,
   "id": "12556183",
   "metadata": {},
   "outputs": [],
   "source": [
    "X_train, X_val, y_train, y_val = train_test_split(df_train['Tweet Content'], df_train['Sentiment'], shuffle=True, test_size=0.2)"
   ]
  },
  {
   "cell_type": "code",
   "execution_count": 22,
   "id": "3aa06caa",
   "metadata": {},
   "outputs": [
    {
     "data": {
      "text/plain": [
       "array(['?19 protection online in USA regular prices  to                  ',\n",
       "       ' How about delivering a box of fresh veg and supplies to every dr and nurse on the frontline of COVID-19 in Australia?     ',\n",
       "       'COVID-19 has the potential to create more permanent behavior changes in the way people shop, consume media and how they regard the brands they do business with.   ',\n",
       "       ...,\n",
       "       \"The U.S. energy sector is doing what it can to keep the bottom line in shape, but it's not going to be easy if prices don't cooperate.  Survival of U.S. Oil, Gas Sectors Said at Risk from Coronavirus, Withering WTI Prices \",\n",
       "       'The  ruined sneezing in public the same way pedophiles ruined waving at toddlers in the grocery store.',\n",
       "       'Anyone   has shit for brains. '], dtype=object)"
      ]
     },
     "execution_count": 22,
     "metadata": {},
     "output_type": "execute_result"
    }
   ],
   "source": [
    "X_train = np.array(X_train)\n",
    "X_train"
   ]
  },
  {
   "cell_type": "markdown",
   "id": "4edc90aa",
   "metadata": {},
   "source": [
    "Seguidamente definimos el tamaño del vocabulario a partir del cual se compondrán los tokens en vectores así como la forma en que se preprocesarán los textos (todo en minúsculas y sin signos de puntuación, eliminando espacios en blanco):"
   ]
  },
  {
   "cell_type": "code",
   "execution_count": 23,
   "id": "c5b72fcd",
   "metadata": {},
   "outputs": [],
   "source": [
    "# Tamaño del vocabulario (un índice por token)\n",
    "vocab_size = 10000\n",
    "\n",
    "encoder = TextVectorization(\n",
    "    max_tokens = vocab_size, \n",
    "    standardize = \"lower_and_strip_punctuation\",\n",
    "    split = \"whitespace\", \n",
    "    ngrams=None, \n",
    "    output_mode = \"int\",\n",
    "    output_sequence_length=None, \n",
    "    pad_to_max_tokens=False, \n",
    "    vocabulary=None\n",
    ")"
   ]
  },
  {
   "cell_type": "markdown",
   "id": "9dfcf0e2",
   "metadata": {},
   "source": [
    "Aplicamos el método *adapt* para ajustar el estado de la capa de preprocesamiento al conjunto de datos. Esto hará que el modelo cree un índice de cadenas a números enteros.\n",
    "\n",
    "***Nota: únicamente se han de emplear los datos de entrenamiento al llamar al método adapt (usar el conjunto de prueba podría filtrar información).***"
   ]
  },
  {
   "cell_type": "code",
   "execution_count": 24,
   "id": "1522472c",
   "metadata": {},
   "outputs": [],
   "source": [
    "encoder.adapt(X_train)"
   ]
  },
  {
   "cell_type": "markdown",
   "id": "abb5387c",
   "metadata": {},
   "source": [
    "El método .adapt establece el vocabulario. Después del relleno y los tokens desconocidos, se ordenan por frecuencia resultando el siguiente vocabulario:"
   ]
  },
  {
   "cell_type": "code",
   "execution_count": 25,
   "id": "8fefeb18",
   "metadata": {},
   "outputs": [],
   "source": [
    "vocab = (encoder.get_vocabulary())"
   ]
  },
  {
   "cell_type": "markdown",
   "id": "b1643f6f",
   "metadata": {},
   "source": [
    "Para el cual mostramos las primeras 200 palabras:"
   ]
  },
  {
   "cell_type": "code",
   "execution_count": 26,
   "id": "9f54785a",
   "metadata": {},
   "outputs": [
    {
     "name": "stdout",
     "output_type": "stream",
     "text": [
      "['', '[UNK]', 'the', 'to', 'and', 'of', 'a', 'in', 'for', 'is', 'are', 'on', 'you', 'i', 'this', 'at', 'prices', 'covid19', 'store', 'food', 'with', 'supermarket', 'that', 'as', 'have', 'we', 'grocery', 'be', 'it', 'people', 'from', 'amp', '19', 'all', 'your', 'will', 'not', 'consumer', 'my', 'our', 'has', 'they', 'up', 'out', 'or', 'by', 'can', 'more', 'but', 'if', 'how', 'shopping', 'online', 'their', 'during', 'so', 'now', 'no', 'covid', 'about', 'get', 'need', 'what', 'just', 'pandemic', 'who', 'us', 'workers', 'panic', 'like', 'do', 'was', 'an', 'time', 'go', 'when', 'home', 'demand', 'some', 'sanitizer', 'help', 'there', 'coronavirus', 'hand', 's', 'its', 'going', 'stock', 'one', 'due', 'me', 'been', 'new', 'buying', 'them', 'work', 'here', 'please', 'after', 'crisis', 'only', 'because', 'oil', 'toilet', 'other', 'than', 'should', 'local', 'these', 'paper', 'over', 'stay', 'via', 'many', 'buy', 'shelves', 'today', 'keep', 'still', 'see', 'make', 'stores', 'being', 'those', 'delivery', 'were', 'know', 'down', 'take', 'supply', 'would', '2', 'why', 'into', 'day', 'retail', 'had', 'stop', 'any', 'social', 'staff', 'even', 'could', 'dont', 'outbreak', 'while', 'also', 'everyone', 'working', 'price', 't', 'spread', 'think', 'masks', 'amid', 'essential', 'virus', 'health', 'most', 'week', 'customers', 'good', 'market', 'shop', 'world', 'use', 'way', 'thank', 'safe', 'products', 'business', 'impact', 'he', 'much', 'which', 'back', 'every', 'may', 'right', 'before', 'employees', 'off', 'first', 'doing', 'items', 'government', 'supplies', '1', 'last', 'times', 'support', 'well', 'lockdown', 'around', 'itÂ\\x92s', 'where', 'want', 'face', 'said', 'got']\n"
     ]
    }
   ],
   "source": [
    "print(vocab[:200])"
   ]
  },
  {
   "cell_type": "code",
   "execution_count": 27,
   "id": "39160ebf",
   "metadata": {},
   "outputs": [],
   "source": [
    "vocab = np.array(vocab)"
   ]
  },
  {
   "cell_type": "code",
   "execution_count": 28,
   "id": "8be9e168",
   "metadata": {},
   "outputs": [],
   "source": [
    "count = 0\n",
    "vocab = np.array(encoder.get_vocabulary())\n",
    "vocab\n",
    "for palabra in vocab:\n",
    "    count += 1"
   ]
  },
  {
   "cell_type": "code",
   "execution_count": 29,
   "id": "3f8f4b90",
   "metadata": {},
   "outputs": [
    {
     "name": "stdout",
     "output_type": "stream",
     "text": [
      "El número total de palabras de que se compone el vocabulario es: 10000\n"
     ]
    }
   ],
   "source": [
    "print(\"El número total de palabras de que se compone el vocabulario es:\",count)"
   ]
  },
  {
   "cell_type": "markdown",
   "id": "37be491e",
   "metadata": {},
   "source": [
    "Vamos a comprobar cómo quedaría el texto codificado para un tweet aleatorio:"
   ]
  },
  {
   "cell_type": "code",
   "execution_count": 30,
   "id": "55dd8401",
   "metadata": {},
   "outputs": [
    {
     "data": {
      "text/plain": [
       "'Shout outs to the incredible  for working hard to shine a light on how  has impacted the hospo industry. Our industry was the first hit and job losses have been insurmountable:Coronavirus: Bar staff told to look for supermarket jobs '"
      ]
     },
     "execution_count": 30,
     "metadata": {},
     "output_type": "execute_result"
    }
   ],
   "source": [
    "sample_tweet = X_train[250]\n",
    "sample_tweet"
   ]
  },
  {
   "cell_type": "code",
   "execution_count": 31,
   "id": "266a2131",
   "metadata": {},
   "outputs": [
    {
     "data": {
      "text/plain": [
       "array([1442, 8180,    3,    2, 2776,    8,  148,  329,    3, 5645,    6,\n",
       "        839,   11,   50,   40, 1007,    2,    1,  280,   39,  280,   71,\n",
       "          2,  182,  367,    4,  342, 1651,   24,   91,    1, 2529,  140,\n",
       "        389,    3,  246,    8,   21,  445], dtype=int64)"
      ]
     },
     "execution_count": 31,
     "metadata": {},
     "output_type": "execute_result"
    }
   ],
   "source": [
    "# Vamos a ver cómo queda este ejemplo codificado\n",
    "codified_sample = encoder(sample_tweet).numpy()\n",
    "codified_sample"
   ]
  },
  {
   "cell_type": "markdown",
   "id": "6a5bf31b",
   "metadata": {},
   "source": [
    "Como se puede apreciar, se ha descompuesto el tweet del ejemplo en un vector con los índices de los tokens en el vocabulario definido."
   ]
  },
  {
   "cell_type": "markdown",
   "id": "2b122552",
   "metadata": {},
   "source": [
    "# Creando el modelo"
   ]
  },
  {
   "cell_type": "markdown",
   "id": "70dab6d5",
   "metadata": {},
   "source": [
    "Transformación one-hot de las variables categóricas:"
   ]
  },
  {
   "cell_type": "code",
   "execution_count": 32,
   "id": "3cac6e54",
   "metadata": {},
   "outputs": [],
   "source": [
    "l = {\"Neutral\" : 0, \"Positive\" : 1, \"Extremely Positive\" : 2, \"Negative\" : 3, \"Extremely Negative\" : 4}"
   ]
  },
  {
   "cell_type": "code",
   "execution_count": 33,
   "id": "5c92133c",
   "metadata": {},
   "outputs": [],
   "source": [
    "y_train = y_train.map(l)\n",
    "y_val = y_val.map(l)"
   ]
  },
  {
   "cell_type": "code",
   "execution_count": 34,
   "id": "9187929a",
   "metadata": {},
   "outputs": [
    {
     "data": {
      "text/plain": [
       "24783    0\n",
       "13241    1\n",
       "6214     1\n",
       "9225     0\n",
       "6625     3\n",
       "        ..\n",
       "1677     4\n",
       "8408     1\n",
       "6218     1\n",
       "11500    4\n",
       "15419    3\n",
       "Name: Sentiment, Length: 32925, dtype: int64"
      ]
     },
     "execution_count": 34,
     "metadata": {},
     "output_type": "execute_result"
    }
   ],
   "source": [
    "y_train"
   ]
  },
  {
   "cell_type": "code",
   "execution_count": 35,
   "id": "fa69f4f2",
   "metadata": {},
   "outputs": [
    {
     "data": {
      "text/plain": [
       "array([[1., 0., 0., 0., 0.],\n",
       "       [0., 1., 0., 0., 0.],\n",
       "       [0., 1., 0., 0., 0.],\n",
       "       ...,\n",
       "       [0., 1., 0., 0., 0.],\n",
       "       [0., 0., 0., 0., 1.],\n",
       "       [0., 0., 0., 1., 0.]], dtype=float32)"
      ]
     },
     "execution_count": 35,
     "metadata": {},
     "output_type": "execute_result"
    }
   ],
   "source": [
    "y_train = to_categorical(y_train, num_classes = 5)\n",
    "y_val = to_categorical(y_val, num_classes = 5)\n",
    "y_train"
   ]
  },
  {
   "cell_type": "markdown",
   "id": "21cfec60",
   "metadata": {},
   "source": [
    "Diseñamos las capas de que se compone el modelo:"
   ]
  },
  {
   "cell_type": "code",
   "execution_count": 36,
   "id": "94d29b48",
   "metadata": {},
   "outputs": [],
   "source": [
    "model = Sequential()\n",
    "\n",
    "model.add(encoder)\n",
    "model.add(Embedding(input_dim = len(encoder.get_vocabulary()),\n",
    "                     output_dim = 32,\n",
    "                     # Usamos masking para añadir padding y de este\n",
    "                     # modo poder procesar secuencias de distintos tamaños\n",
    "                     mask_zero = True))\n",
    "\n",
    "model.add(Bidirectional(LSTM(32))) \n",
    "model.add(Dense(32, activation = \"relu\"))\n",
    "model.add(Dropout(0.6))\n",
    "model.add(Dense(5, activation = 'softmax'))"
   ]
  },
  {
   "cell_type": "markdown",
   "id": "e671a8a1",
   "metadata": {},
   "source": [
    "Lo compilamos:"
   ]
  },
  {
   "cell_type": "code",
   "execution_count": 37,
   "id": "f5d38d28",
   "metadata": {},
   "outputs": [],
   "source": [
    "model.compile(loss = 'categorical_crossentropy',\n",
    "               optimizer = \"adam\",\n",
    "               metrics = [\"accuracy\"])"
   ]
  },
  {
   "cell_type": "markdown",
   "id": "829cc0f3",
   "metadata": {},
   "source": [
    "Definimos los callbacks:"
   ]
  },
  {
   "cell_type": "code",
   "execution_count": 38,
   "id": "93104e52",
   "metadata": {},
   "outputs": [],
   "source": [
    "call_back = tf.keras.callbacks.EarlyStopping(patience = 3, restore_best_weights = True)"
   ]
  },
  {
   "cell_type": "markdown",
   "id": "07bce5d7",
   "metadata": {},
   "source": [
    "Para finalmente instanciarlo y entrenarlo:"
   ]
  },
  {
   "cell_type": "code",
   "execution_count": 39,
   "id": "cb6ca592",
   "metadata": {},
   "outputs": [
    {
     "name": "stdout",
     "output_type": "stream",
     "text": [
      "Epoch 1/15\n",
      "1029/1029 [==============================] - 37s 30ms/step - loss: 1.2530 - accuracy: 0.4635 - val_loss: 0.9102 - val_accuracy: 0.6510\n",
      "Epoch 2/15\n",
      "1029/1029 [==============================] - 29s 28ms/step - loss: 0.8121 - accuracy: 0.7103 - val_loss: 0.7113 - val_accuracy: 0.7413\n",
      "Epoch 3/15\n",
      "1029/1029 [==============================] - 28s 27ms/step - loss: 0.6488 - accuracy: 0.7839 - val_loss: 0.7006 - val_accuracy: 0.7518\n",
      "Epoch 4/15\n",
      "1029/1029 [==============================] - 27s 26ms/step - loss: 0.5433 - accuracy: 0.8202 - val_loss: 0.6969 - val_accuracy: 0.7521\n",
      "Epoch 5/15\n",
      "1029/1029 [==============================] - 29s 28ms/step - loss: 0.4647 - accuracy: 0.8455 - val_loss: 0.7376 - val_accuracy: 0.7457\n",
      "Epoch 6/15\n",
      "1029/1029 [==============================] - 29s 28ms/step - loss: 0.4047 - accuracy: 0.8641 - val_loss: 0.8691 - val_accuracy: 0.7312\n",
      "Epoch 7/15\n",
      "1029/1029 [==============================] - 31s 30ms/step - loss: 0.3450 - accuracy: 0.8822 - val_loss: 0.9102 - val_accuracy: 0.7567\n",
      "Wall time: 3min 29s\n"
     ]
    }
   ],
   "source": [
    "%%time\n",
    "history = model.fit(X_train, y_train,\n",
    "                      epochs = 15,\n",
    "                      callbacks = [call_back],\n",
    "                      validation_data = (X_val, y_val))"
   ]
  },
  {
   "cell_type": "code",
   "execution_count": 41,
   "id": "87b33896",
   "metadata": {},
   "outputs": [
    {
     "data": {
      "image/png": "[encoded data removed]",
      "text/plain": [
       "<Figure size 1080x360 with 2 Axes>"
      ]
     },
     "metadata": {},
     "output_type": "display_data"
    }
   ],
   "source": [
    "sns.set_style(\"whitegrid\")\n",
    "fig = plt.figure(figsize=(15, 5))\n",
    "\n",
    "# Plot accuracy\n",
    "ax = fig.add_subplot(121)\n",
    "ax.plot(range(7), history.history['accuracy'])\n",
    "ax.plot(range(7), history.history['val_accuracy'])\n",
    "ax.legend(['training_acc', 'validation_acc'])\n",
    "ax.set_title('Accuracy')\n",
    "\n",
    "# Plot loss\n",
    "ax2 = fig.add_subplot(122)\n",
    "ax2.plot(range(7), history.history['loss'])\n",
    "ax2.plot(range(7), history.history['val_loss'])\n",
    "ax2.legend(['training_loss', 'validation_loss'])\n",
    "ax2.set_title('Loss')\n",
    "\n",
    "plt.show()"
   ]
  },
  {
   "cell_type": "markdown",
   "id": "28133089",
   "metadata": {},
   "source": [
    "Se observa como se llega rápidamente al sobreajuste en el momento en que la pérdida de entrenamiento sigue reduciéndose pero en cambio la de validación aumenta. Este hecho se produce a partir de la segunda epoch y se mantiene tantas epochs como patience hayamos definido en el early-stopping."
   ]
  },
  {
   "cell_type": "code",
   "execution_count": 42,
   "id": "eaaf2fff",
   "metadata": {},
   "outputs": [],
   "source": [
    "train_lstm_results = model.evaluate(X_train, y_train, verbose=0, batch_size=64)\n",
    "test_lstm_results = model.evaluate(X_val, y_val, verbose=0, batch_size=64)"
   ]
  },
  {
   "cell_type": "code",
   "execution_count": 43,
   "id": "1a6af84f",
   "metadata": {},
   "outputs": [
    {
     "name": "stdout",
     "output_type": "stream",
     "text": [
      "Precisión datos entrenamiento: 88.71\n",
      "Precisión datos validación: 75.21\n"
     ]
    }
   ],
   "source": [
    "print(f'Precisión datos entrenamiento: {train_lstm_results[1]*100:0.2f}')\n",
    "print(f'Precisión datos validación: {test_lstm_results[1]*100:0.2f}')"
   ]
  },
  {
   "cell_type": "markdown",
   "id": "bd708c0d",
   "metadata": {},
   "source": [
    "Con esta evaluación comprobamos que con el modelo alcanzamos una precisión cercana al 89% para los datos de entrenamiento y ligeramente superior al 75% en los de validación."
   ]
  },
  {
   "cell_type": "markdown",
   "id": "ebf91bd6",
   "metadata": {},
   "source": [
    "# Realizando las predicciones"
   ]
  },
  {
   "cell_type": "markdown",
   "id": "43db02b9",
   "metadata": {},
   "source": [
    "Preprocesamos los datos de test en primer lugar:"
   ]
  },
  {
   "cell_type": "code",
   "execution_count": 44,
   "id": "83378ce5",
   "metadata": {},
   "outputs": [],
   "source": [
    "df_test['Tweet Content'] = df_test['Tweet Content'].apply(lambda x: clean(x))"
   ]
  },
  {
   "cell_type": "code",
   "execution_count": 45,
   "id": "d2f479b3",
   "metadata": {},
   "outputs": [],
   "source": [
    "X_test = df_test['Tweet Content']\n",
    "y_test = df_test['Sentiment']"
   ]
  },
  {
   "cell_type": "code",
   "execution_count": 46,
   "id": "e49eae94",
   "metadata": {},
   "outputs": [],
   "source": [
    "y_test = y_test.map(l)"
   ]
  },
  {
   "cell_type": "code",
   "execution_count": 47,
   "id": "589c6700",
   "metadata": {},
   "outputs": [
    {
     "data": {
      "text/plain": [
       "array([[0., 0., 0., 0., 1.],\n",
       "       [0., 1., 0., 0., 0.],\n",
       "       [0., 0., 1., 0., 0.],\n",
       "       ...,\n",
       "       [1., 0., 0., 0., 0.],\n",
       "       [0., 0., 0., 0., 1.],\n",
       "       [0., 0., 1., 0., 0.]], dtype=float32)"
      ]
     },
     "execution_count": 47,
     "metadata": {},
     "output_type": "execute_result"
    }
   ],
   "source": [
    "y_test = to_categorical(y_test, num_classes = 5)\n",
    "y_test"
   ]
  },
  {
   "cell_type": "markdown",
   "id": "ed8767dc",
   "metadata": {},
   "source": [
    "Siendo las predicciones:"
   ]
  },
  {
   "cell_type": "code",
   "execution_count": 48,
   "id": "7e7c71f3",
   "metadata": {},
   "outputs": [],
   "source": [
    "pred = model.predict_classes(np.array(X_test))"
   ]
  },
  {
   "cell_type": "code",
   "execution_count": 49,
   "id": "47322f65",
   "metadata": {},
   "outputs": [
    {
     "data": {
      "text/plain": [
       "array([3, 1, 2, ..., 0, 4, 2], dtype=int64)"
      ]
     },
     "execution_count": 49,
     "metadata": {},
     "output_type": "execute_result"
    }
   ],
   "source": [
    "pred"
   ]
  },
  {
   "cell_type": "code",
   "execution_count": 50,
   "id": "b5a1f31b",
   "metadata": {},
   "outputs": [
    {
     "data": {
      "text/plain": [
       "array([[0., 0., 0., 1., 0.],\n",
       "       [0., 1., 0., 0., 0.],\n",
       "       [0., 0., 1., 0., 0.],\n",
       "       ...,\n",
       "       [1., 0., 0., 0., 0.],\n",
       "       [0., 0., 0., 0., 1.],\n",
       "       [0., 0., 1., 0., 0.]], dtype=float32)"
      ]
     },
     "execution_count": 50,
     "metadata": {},
     "output_type": "execute_result"
    }
   ],
   "source": [
    "pred_cat = to_categorical(pred, num_classes = 5)\n",
    "pred_cat"
   ]
  },
  {
   "cell_type": "markdown",
   "id": "e15d1ff0",
   "metadata": {},
   "source": [
    "La precisión sobre los datos de test llega casi al 73%."
   ]
  },
  {
   "cell_type": "code",
   "execution_count": 51,
   "id": "3fe65cfa",
   "metadata": {},
   "outputs": [
    {
     "data": {
      "text/plain": [
       "0.7285413375460769"
      ]
     },
     "execution_count": 51,
     "metadata": {},
     "output_type": "execute_result"
    }
   ],
   "source": [
    "accuracy_score(y_test, pred_cat)"
   ]
  },
  {
   "cell_type": "code",
   "execution_count": 52,
   "id": "6ca4a57a",
   "metadata": {},
   "outputs": [
    {
     "name": "stdout",
     "output_type": "stream",
     "text": [
      "              precision    recall  f1-score   support\n",
      "\n",
      "           0       0.82      0.80      0.81       619\n",
      "           1       0.67      0.75      0.71       947\n",
      "           2       0.87      0.66      0.75       599\n",
      "           3       0.67      0.71      0.69      1041\n",
      "           4       0.74      0.72      0.73       592\n",
      "\n",
      "   micro avg       0.73      0.73      0.73      3798\n",
      "   macro avg       0.75      0.73      0.74      3798\n",
      "weighted avg       0.74      0.73      0.73      3798\n",
      " samples avg       0.73      0.73      0.73      3798\n",
      "\n"
     ]
    }
   ],
   "source": [
    "print(classification_report(y_test, pred_cat))"
   ]
  },
  {
   "cell_type": "markdown",
   "id": "472c0292",
   "metadata": {},
   "source": [
    "Gracias al classification_report, comprobamos la precisión conseguida para cada una de las etiquetas. Se observa que los textos extremadamente positivos obtienen las mayores precisiones mientras que aquellos cuyo contenido es positivo o negativo son los que menos aciertos obtienen en su clasificación."
   ]
  }
 ],
 "metadata": {
  "kernelspec": {
   "display_name": "Python 3",
   "language": "python",
   "name": "python3"
  },
  "language_info": {
   "codemirror_mode": {
    "name": "ipython",
    "version": 3
   },
   "file_extension": ".py",
   "mimetype": "text/x-python",
   "name": "python",
   "nbconvert_exporter": "python",
   "pygments_lexer": "ipython3",
   "version": "3.7.0"
  },
  "toc": {
   "base_numbering": 1,
   "nav_menu": {},
   "number_sections": true,
   "sideBar": true,
   "skip_h1_title": false,
   "title_cell": "Table of Contents",
   "title_sidebar": "Contents",
   "toc_cell": false,
   "toc_position": {},
   "toc_section_display": true,
   "toc_window_display": true
  }
 },
 "nbformat": 4,
 "nbformat_minor": 5
}
